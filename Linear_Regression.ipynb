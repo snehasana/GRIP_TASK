{
  "nbformat": 4,
  "nbformat_minor": 0,
  "metadata": {
    "colab": {
      "name": "Linear Regression.ipynb",
      "provenance": [],
      "collapsed_sections": []
    },
    "kernelspec": {
      "name": "python3",
      "display_name": "Python 3"
    }
  },
  "cells": [
    {
      "cell_type": "markdown",
      "metadata": {
        "id": "AUgz8qXrraaO"
      },
      "source": [
        "#Importing libraries"
      ]
    },
    {
      "cell_type": "code",
      "metadata": {
        "id": "VLTaG1FicAj-"
      },
      "source": [
        "import pandas as pd\n",
        "import numpy as np\n",
        "from sklearn.model_selection import train_test_split\n",
        "from sklearn.linear_model import LinearRegression\n",
        "import matplotlib.pyplot as plt"
      ],
      "execution_count": null,
      "outputs": []
    },
    {
      "cell_type": "markdown",
      "metadata": {
        "id": "54HDIse2rkIj"
      },
      "source": [
        "#Read data into df"
      ]
    },
    {
      "cell_type": "code",
      "metadata": {
        "id": "SvW_F9r2co2L"
      },
      "source": [
        "df = pd.read_csv('https://raw.githubusercontent.com/AdiPersonalWorks/Random/master/student_scores%20-%20student_scores.csv')"
      ],
      "execution_count": null,
      "outputs": []
    },
    {
      "cell_type": "code",
      "metadata": {
        "id": "eYdhqF_5c5W5",
        "outputId": "cd57e8b3-a1ef-48f6-d9eb-b683096d1d6c",
        "colab": {
          "base_uri": "https://localhost:8080/",
          "height": 34
        }
      },
      "source": [
        "df.shape"
      ],
      "execution_count": null,
      "outputs": [
        {
          "output_type": "execute_result",
          "data": {
            "text/plain": [
              "(25, 2)"
            ]
          },
          "metadata": {
            "tags": []
          },
          "execution_count": 3
        }
      ]
    },
    {
      "cell_type": "code",
      "metadata": {
        "id": "vWZ3ENQtc8cu",
        "outputId": "f4ae29c5-6e02-433a-c849-1e00e1b94f5b",
        "colab": {
          "base_uri": "https://localhost:8080/",
          "height": 195
        }
      },
      "source": [
        "df.head()"
      ],
      "execution_count": null,
      "outputs": [
        {
          "output_type": "execute_result",
          "data": {
            "text/html": [
              "<div>\n",
              "<style scoped>\n",
              "    .dataframe tbody tr th:only-of-type {\n",
              "        vertical-align: middle;\n",
              "    }\n",
              "\n",
              "    .dataframe tbody tr th {\n",
              "        vertical-align: top;\n",
              "    }\n",
              "\n",
              "    .dataframe thead th {\n",
              "        text-align: right;\n",
              "    }\n",
              "</style>\n",
              "<table border=\"1\" class=\"dataframe\">\n",
              "  <thead>\n",
              "    <tr style=\"text-align: right;\">\n",
              "      <th></th>\n",
              "      <th>Hours</th>\n",
              "      <th>Scores</th>\n",
              "    </tr>\n",
              "  </thead>\n",
              "  <tbody>\n",
              "    <tr>\n",
              "      <th>0</th>\n",
              "      <td>2.5</td>\n",
              "      <td>21</td>\n",
              "    </tr>\n",
              "    <tr>\n",
              "      <th>1</th>\n",
              "      <td>5.1</td>\n",
              "      <td>47</td>\n",
              "    </tr>\n",
              "    <tr>\n",
              "      <th>2</th>\n",
              "      <td>3.2</td>\n",
              "      <td>27</td>\n",
              "    </tr>\n",
              "    <tr>\n",
              "      <th>3</th>\n",
              "      <td>8.5</td>\n",
              "      <td>75</td>\n",
              "    </tr>\n",
              "    <tr>\n",
              "      <th>4</th>\n",
              "      <td>3.5</td>\n",
              "      <td>30</td>\n",
              "    </tr>\n",
              "  </tbody>\n",
              "</table>\n",
              "</div>"
            ],
            "text/plain": [
              "   Hours  Scores\n",
              "0    2.5      21\n",
              "1    5.1      47\n",
              "2    3.2      27\n",
              "3    8.5      75\n",
              "4    3.5      30"
            ]
          },
          "metadata": {
            "tags": []
          },
          "execution_count": 4
        }
      ]
    },
    {
      "cell_type": "markdown",
      "metadata": {
        "id": "XHTsx2iLrvBN"
      },
      "source": [
        "#Splitting independent and dependent features"
      ]
    },
    {
      "cell_type": "code",
      "metadata": {
        "id": "47u4yefDifI_"
      },
      "source": [
        "X = df[['Hours']]\n",
        "y = df[['Scores']]"
      ],
      "execution_count": null,
      "outputs": []
    },
    {
      "cell_type": "markdown",
      "metadata": {
        "id": "hG52vy6Dr4Dz"
      },
      "source": [
        "#Splitting training and testing data"
      ]
    },
    {
      "cell_type": "code",
      "metadata": {
        "id": "kLP2PY3LirFH"
      },
      "source": [
        "X_train, X_test, y_train, y_test = train_test_split(X, y, test_size=0.3, random_state=1)\n"
      ],
      "execution_count": null,
      "outputs": []
    },
    {
      "cell_type": "markdown",
      "metadata": {
        "id": "5JzY7wnSr8Po"
      },
      "source": [
        "#Buliding Regression model"
      ]
    },
    {
      "cell_type": "code",
      "metadata": {
        "id": "E9HrSsdPixIV",
        "outputId": "1489aa18-646c-4315-b8ec-3f61995cc484",
        "colab": {
          "base_uri": "https://localhost:8080/",
          "height": 151
        }
      },
      "source": [
        "reg = LinearRegression()\n",
        "reg.fit(X_train, y_train)\n",
        "y_pred = reg.predict(X_test)\n",
        "y_pred"
      ],
      "execution_count": null,
      "outputs": [
        {
          "output_type": "execute_result",
          "data": {
            "text/plain": [
              "array([[ 9.93952968],\n",
              "       [32.84320126],\n",
              "       [18.26813752],\n",
              "       [86.97915227],\n",
              "       [48.45934097],\n",
              "       [78.65054442],\n",
              "       [61.99332873],\n",
              "       [75.52731648]])"
            ]
          },
          "metadata": {
            "tags": []
          },
          "execution_count": 7
        }
      ]
    },
    {
      "cell_type": "markdown",
      "metadata": {
        "id": "3gebDoHesBzB"
      },
      "source": [
        "#Plotting training data"
      ]
    },
    {
      "cell_type": "code",
      "metadata": {
        "id": "2n7E8nu0gZ3O",
        "outputId": "f9772006-0471-4a31-c7a5-f4cca8b80d04",
        "colab": {
          "base_uri": "https://localhost:8080/",
          "height": 312
        }
      },
      "source": [
        "plt.scatter(X_train, y_train, color='green')\n",
        "plt.plot(X_train, reg.predict(X_train), color='red')\n",
        "plt.xlabel('Hours')\n",
        "plt.ylabel('Scores')\n",
        "plt.title('Hours of study vs Scores obtained')"
      ],
      "execution_count": null,
      "outputs": [
        {
          "output_type": "execute_result",
          "data": {
            "text/plain": [
              "Text(0.5, 1.0, 'Hours of study vs Scores obtained')"
            ]
          },
          "metadata": {
            "tags": []
          },
          "execution_count": 8
        },
        {
          "output_type": "display_data",
          "data": {
            "image/png": "[encoded data removed]",
            "text/plain": [
              "<Figure size 432x288 with 1 Axes>"
            ]
          },
          "metadata": {
            "tags": [],
            "needs_background": "light"
          }
        }
      ]
    },
    {
      "cell_type": "markdown",
      "metadata": {
        "id": "_aFr1EaIsFYc"
      },
      "source": [
        "#Plotting testing data"
      ]
    },
    {
      "cell_type": "code",
      "metadata": {
        "id": "DarPi4Cog0ez",
        "outputId": "6b14cae2-3322-464a-c90c-8755a80037b2",
        "colab": {
          "base_uri": "https://localhost:8080/",
          "height": 312
        }
      },
      "source": [
        "plt.scatter(X_test, y_test, color='green')\n",
        "plt.plot(X_train, reg.predict(X_train), color='red')\n",
        "plt.xlabel('Hours')\n",
        "plt.ylabel('Scores')\n",
        "plt.title('Hours of study vs Scores obtained')"
      ],
      "execution_count": null,
      "outputs": [
        {
          "output_type": "execute_result",
          "data": {
            "text/plain": [
              "Text(0.5, 1.0, 'Hours of study vs Scores obtained')"
            ]
          },
          "metadata": {
            "tags": []
          },
          "execution_count": 9
        },
        {
          "output_type": "display_data",
          "data": {
            "image/png": "[encoded data removed]",
            "text/plain": [
              "<Figure size 432x288 with 1 Axes>"
            ]
          },
          "metadata": {
            "tags": [],
            "needs_background": "light"
          }
        }
      ]
    },
    {
      "cell_type": "markdown",
      "metadata": {
        "id": "3R-ky-GFsKQG"
      },
      "source": [
        "#Finding regression equation"
      ]
    },
    {
      "cell_type": "code",
      "metadata": {
        "id": "rGUPsgZDkVol"
      },
      "source": [
        "slope = reg.coef_\n",
        "intercept = reg.intercept_"
      ],
      "execution_count": null,
      "outputs": []
    },
    {
      "cell_type": "code",
      "metadata": {
        "id": "G1wbiP-7sf74",
        "outputId": "4e4230aa-fad4-45aa-fbc6-15d0124953bf",
        "colab": {
          "base_uri": "https://localhost:8080/",
          "height": 34
        }
      },
      "source": [
        "print(\"Score = \", intercept, \"+\", \"Hours*\", slope)"
      ],
      "execution_count": null,
      "outputs": [
        {
          "output_type": "stream",
          "text": [
            "Score =  [-1.51230612] + Hours* [[10.41075981]]\n"
          ],
          "name": "stdout"
        }
      ]
    },
    {
      "cell_type": "markdown",
      "metadata": {
        "id": "IIJt7-l5tcOV"
      },
      "source": [
        "#Evaluating regression model"
      ]
    },
    {
      "cell_type": "code",
      "metadata": {
        "id": "IR9x2BV9ocIl",
        "outputId": "5eec1f8f-625f-452d-b95d-a75769a8d671",
        "colab": {
          "base_uri": "https://localhost:8080/",
          "height": 84
        }
      },
      "source": [
        "from sklearn.metrics import r2_score, mean_absolute_error, mean_squared_error\n",
        "print(\"R squared: \",r2_score(y_test, y_pred))\n",
        "print(\"Mean absolute error: \",mean_absolute_error(y_test, y_pred))\n",
        "print(\"Mean squared error: \",mean_squared_error(y_test, y_pred))\n",
        "print(\"Root mean squared error: \",np.sqrt(mean_squared_error(y_test, y_pred)))"
      ],
      "execution_count": null,
      "outputs": [
        {
          "output_type": "stream",
          "text": [
            "R squared:  0.8933827573294114\n",
            "Mean absolute error:  7.169048271425507\n",
            "Mean squared error:  56.092330905646705\n",
            "Root mean squared error:  7.489481350911204\n"
          ],
          "name": "stdout"
        }
      ]
    },
    {
      "cell_type": "markdown",
      "metadata": {
        "id": "D2AyludJtTBv"
      },
      "source": [
        "#What will be predicted score if a student study for 9.25 hrs in a day?"
      ]
    },
    {
      "cell_type": "code",
      "metadata": {
        "id": "X8ugx_4KlAqG",
        "outputId": "462488e7-ee06-44fc-9b50-3ed04fbd62ce",
        "colab": {
          "base_uri": "https://localhost:8080/",
          "height": 34
        }
      },
      "source": [
        "result = reg.predict([[9.25]])\n",
        "result[0][0]"
      ],
      "execution_count": null,
      "outputs": [
        {
          "output_type": "execute_result",
          "data": {
            "text/plain": [
              "94.78722212956563"
            ]
          },
          "metadata": {
            "tags": []
          },
          "execution_count": 13
        }
      ]
    },
    {
      "cell_type": "code",
      "metadata": {
        "id": "iwE7EVZBd7LM"
      },
      "source": [
        ""
      ],
      "execution_count": null,
      "outputs": []
    }
  ]
}